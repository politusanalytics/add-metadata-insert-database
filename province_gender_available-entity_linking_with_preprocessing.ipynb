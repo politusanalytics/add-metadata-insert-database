{
 "cells": [
  {
   "cell_type": "markdown",
   "id": "9b36fb81",
   "metadata": {},
   "source": [
    "# Province Gender Available - Entity Linking with Preprocessing"
   ]
  },
  {
   "cell_type": "code",
   "execution_count": 1,
   "id": "b9f2263e",
   "metadata": {},
   "outputs": [
    {
     "name": "stderr",
     "output_type": "stream",
     "text": [
      "C:\\Users\\melihcanyardi\\anaconda3\\lib\\site-packages\\fuzzywuzzy\\fuzz.py:11: UserWarning: Using slow pure-python SequenceMatcher. Install python-Levenshtein to remove this warning\n",
      "  warnings.warn('Using slow pure-python SequenceMatcher. Install python-Levenshtein to remove this warning')\n"
     ]
    }
   ],
   "source": [
    "import gzip\n",
    "import json\n",
    "import pandas as pd\n",
    "from fuzzywuzzy import fuzz\n",
    "from collections import Counter\n",
    "from string import punctuation"
   ]
  },
  {
   "cell_type": "markdown",
   "id": "5ceb3734",
   "metadata": {},
   "source": [
    "## Read Entities & Create Ids for each Entity"
   ]
  },
  {
   "cell_type": "code",
   "execution_count": 2,
   "id": "0753f122",
   "metadata": {},
   "outputs": [],
   "source": [
    "entity_linking_list = pd.read_excel(\"entity_linking_list.xlsx\")"
   ]
  },
  {
   "cell_type": "code",
   "execution_count": 3,
   "id": "ff330b82",
   "metadata": {},
   "outputs": [],
   "source": [
    "entities = list(entity_linking_list.columns)"
   ]
  },
  {
   "cell_type": "code",
   "execution_count": 4,
   "id": "696b19ae",
   "metadata": {},
   "outputs": [
    {
     "data": {
      "text/plain": [
       "{'Ahmet Davutoğlu': 1,\n",
       " 'Ali Babacan': 2,\n",
       " 'Ekrem İmamoğlu': 3,\n",
       " 'Gültekin Uysal': 4,\n",
       " 'Kemal Kılıçdaroğlu': 5,\n",
       " 'Mansur Yavaş': 6,\n",
       " 'Meral Akşener': 7,\n",
       " 'Recep Tayyip Erdoğan': 8,\n",
       " 'Selahattin Demirtaş': 9,\n",
       " 'Temel Karamollaoğlu': 10}"
      ]
     },
     "execution_count": 4,
     "metadata": {},
     "output_type": "execute_result"
    }
   ],
   "source": [
    "ids_to_entities = dict(zip(entities, list(range(1, len(entities)+1))))\n",
    "ids_to_entities"
   ]
  },
  {
   "cell_type": "code",
   "execution_count": 5,
   "id": "65fcf4cc",
   "metadata": {},
   "outputs": [
    {
     "data": {
      "text/plain": [
       "['Ahmet Davutoğlu',\n",
       " 'Ali Babacan',\n",
       " 'Ekrem İmamoğlu',\n",
       " 'Gültekin Uysal',\n",
       " 'Kemal Kılıçdaroğlu',\n",
       " 'Mansur Yavaş',\n",
       " 'Meral Akşener',\n",
       " 'Recep Tayyip Erdoğan',\n",
       " 'Selahattin Demirtaş',\n",
       " 'Temel Karamollaoğlu']"
      ]
     },
     "execution_count": 5,
     "metadata": {},
     "output_type": "execute_result"
    }
   ],
   "source": [
    "names = list(ids_to_entities.keys())\n",
    "names"
   ]
  },
  {
   "cell_type": "code",
   "execution_count": 6,
   "id": "4b097872",
   "metadata": {},
   "outputs": [
    {
     "data": {
      "text/plain": [
       "[{'entity_id': 1,\n",
       "  'entity_canonical_form': 'Ahmet Davutoğlu',\n",
       "  'entity_variations': 'Ahmet Davutoğlu'},\n",
       " {'entity_id': 2,\n",
       "  'entity_canonical_form': 'Ali Babacan',\n",
       "  'entity_variations': 'Ali Babacan'},\n",
       " {'entity_id': 3,\n",
       "  'entity_canonical_form': 'Ekrem İmamoğlu',\n",
       "  'entity_variations': 'Ekrem İmamoğlu'},\n",
       " {'entity_id': 4,\n",
       "  'entity_canonical_form': 'Gültekin Uysal',\n",
       "  'entity_variations': 'Gültekin Uysal'},\n",
       " {'entity_id': 5,\n",
       "  'entity_canonical_form': 'Kemal Kılıçdaroğlu',\n",
       "  'entity_variations': 'Kemal Kılıçdaroğlu'},\n",
       " {'entity_id': 6,\n",
       "  'entity_canonical_form': 'Mansur Yavaş',\n",
       "  'entity_variations': 'Mansur Yavaş'},\n",
       " {'entity_id': 7,\n",
       "  'entity_canonical_form': 'Meral Akşener',\n",
       "  'entity_variations': 'Meral Akşener'},\n",
       " {'entity_id': 8,\n",
       "  'entity_canonical_form': 'Recep Tayyip Erdoğan',\n",
       "  'entity_variations': 'Recep Tayyip Erdoğan'},\n",
       " {'entity_id': 9,\n",
       "  'entity_canonical_form': 'Selahattin Demirtaş',\n",
       "  'entity_variations': 'Selahattin Demirtaş'},\n",
       " {'entity_id': 10,\n",
       "  'entity_canonical_form': 'Temel Karamollaoğlu',\n",
       "  'entity_variations': 'Temel Karamollaoğlu'}]"
      ]
     },
     "execution_count": 6,
     "metadata": {},
     "output_type": "execute_result"
    }
   ],
   "source": [
    "entity_linking_list_json = [{\"entity_id\": i+1, \"entity_canonical_form\": names[i], \"entity_variations\": names[i]} for i in range(10)]\n",
    "entity_linking_list_json"
   ]
  },
  {
   "cell_type": "code",
   "execution_count": 7,
   "id": "0c41a9eb",
   "metadata": {},
   "outputs": [],
   "source": [
    "with open(\"entity_linking_list_json.json\", \"w\") as f:\n",
    "    json.dump(entity_linking_list_json, f)"
   ]
  },
  {
   "cell_type": "markdown",
   "id": "b2c26e98",
   "metadata": {},
   "source": [
    "## Read Tweets with Entities"
   ]
  },
  {
   "cell_type": "code",
   "execution_count": 8,
   "id": "59a0143a",
   "metadata": {},
   "outputs": [],
   "source": [
    "with gzip.open(\"all_tweets_unique_id_txt-220614_wEntities.json.gz\", \"rb\") as f:\n",
    "    all_tweets_ent = f.readlines()"
   ]
  },
  {
   "cell_type": "code",
   "execution_count": 9,
   "id": "655728af",
   "metadata": {},
   "outputs": [],
   "source": [
    "for i in range(len(all_tweets_ent)):\n",
    "    all_tweets_ent[i] = json.loads(all_tweets_ent[i])"
   ]
  },
  {
   "cell_type": "code",
   "execution_count": 10,
   "id": "0ae2e0e1",
   "metadata": {},
   "outputs": [
    {
     "data": {
      "text/plain": [
       "4615920"
      ]
     },
     "execution_count": 10,
     "metadata": {},
     "output_type": "execute_result"
    }
   ],
   "source": [
    "len(all_tweets_ent)"
   ]
  },
  {
   "cell_type": "markdown",
   "id": "e28b31b7",
   "metadata": {},
   "source": [
    "## Preprocessing"
   ]
  },
  {
   "cell_type": "code",
   "execution_count": 11,
   "id": "8edc9c9c",
   "metadata": {},
   "outputs": [],
   "source": [
    "def preprocessing(x):\n",
    "    \"\"\"\n",
    "    - Lowercase Turkish characters (Ç, Ğ, I, İ, Ö, Ş, Ü)\n",
    "    - Lowercase all characters\n",
    "    - Remove leading and trailing punctuation\n",
    "    - Remove everything after apostrophe (' and ’)\n",
    "    - Remove non-alphabetic characters\n",
    "    \"\"\"\n",
    "    \n",
    "    x = x.replace(\"Ç\", \"ç\").replace(\"Ğ\", \"ğ\").replace(\"I\", \"ı\").replace(\"İ\", \"i\").replace(\"Ö\", \"ö\").replace(\"Ş\", \"ş\").replace(\"Ü\", \"ü\")\n",
    "    x = x.lower()\n",
    "    x = x.strip(punctuation)\n",
    "    x = x.split(\"'\")[0]\n",
    "    x = x.split(\"’\")[0]\n",
    "    x = ''.join([letter for letter in x if letter.isalpha() or letter == \" \"])\n",
    "    \n",
    "    return x"
   ]
  },
  {
   "cell_type": "code",
   "execution_count": 12,
   "id": "af3d82cc",
   "metadata": {},
   "outputs": [
    {
     "data": {
      "text/plain": [
       "['ahmet davutoğlu',\n",
       " 'ali babacan',\n",
       " 'ekrem imamoğlu',\n",
       " 'gültekin uysal',\n",
       " 'kemal kılıçdaroğlu',\n",
       " 'mansur yavaş',\n",
       " 'meral akşener',\n",
       " 'recep tayyip erdoğan',\n",
       " 'selahattin demirtaş',\n",
       " 'temel karamollaoğlu']"
      ]
     },
     "execution_count": 12,
     "metadata": {},
     "output_type": "execute_result"
    }
   ],
   "source": [
    "names_processed = [preprocessing(name) for name in names]\n",
    "names_processed"
   ]
  },
  {
   "cell_type": "markdown",
   "id": "b6420e51",
   "metadata": {},
   "source": [
    "## Preprocessing & Matching Entities with Names\n",
    "\n",
    "- Ratio used for similarity (*fuzzywuzzy.ratio*): **80%**"
   ]
  },
  {
   "cell_type": "code",
   "execution_count": 13,
   "id": "96c9167a",
   "metadata": {},
   "outputs": [
    {
     "name": "stdout",
     "output_type": "stream",
     "text": [
      "0/4615920 | 0.00%\n",
      "250000/4615920 | 5.42%\n",
      "500000/4615920 | 10.83%\n",
      "750000/4615920 | 16.25%\n",
      "1000000/4615920 | 21.66%\n",
      "1250000/4615920 | 27.08%\n",
      "1500000/4615920 | 32.50%\n",
      "1750000/4615920 | 37.91%\n",
      "2000000/4615920 | 43.33%\n",
      "2250000/4615920 | 48.74%\n",
      "2500000/4615920 | 54.16%\n",
      "2750000/4615920 | 59.58%\n",
      "3000000/4615920 | 64.99%\n",
      "3250000/4615920 | 70.41%\n",
      "3500000/4615920 | 75.82%\n",
      "3750000/4615920 | 81.24%\n",
      "4000000/4615920 | 86.66%\n",
      "4250000/4615920 | 92.07%\n",
      "4500000/4615920 | 97.49%\n",
      "4615920/4615920 | 100.00%\n"
     ]
    }
   ],
   "source": [
    "# For each tweet\n",
    "for i, tweet in enumerate(all_tweets_ent):\n",
    "    if i % 250_000 == 0:\n",
    "        print(f\"{i}/{len(all_tweets_ent)} | {(i+1)/len(all_tweets_ent)*100:.2f}%\")\n",
    "    # For each entity in a tweet\n",
    "    for entity in tweet[\"entities\"]:\n",
    "        # For each (preprocessed) name\n",
    "        for k in range(len(names_processed)):\n",
    "            # If the similarity between name & entity is higher than 80%\n",
    "            if fuzz.ratio(names_processed[k], preprocessing(entity[1])) >= 80:\n",
    "                # Append the id of related name\n",
    "                entity.append(k+1)\n",
    "        # Af there is no third element in the entity list, then append 0\n",
    "        if len(entity) < 3:\n",
    "            entity.append(0)\n",
    "print(f\"{len(all_tweets_ent)}/{len(all_tweets_ent)} | {len(all_tweets_ent)/len(all_tweets_ent)*100:.2f}%\")"
   ]
  },
  {
   "cell_type": "code",
   "execution_count": 14,
   "id": "f037090a",
   "metadata": {},
   "outputs": [],
   "source": [
    "with gzip.open(\"all_tweets_unique_id_txt-220614_wEntityLinking.json.gz\", \"ab\") as f:\n",
    "    for tweet in all_tweets_ent:\n",
    "        f.write(f\"{json.dumps(tweet)}\\n\".encode('utf-8'))"
   ]
  }
 ],
 "metadata": {
  "kernelspec": {
   "display_name": "Python 3 (ipykernel)",
   "language": "python",
   "name": "python3"
  },
  "language_info": {
   "codemirror_mode": {
    "name": "ipython",
    "version": 3
   },
   "file_extension": ".py",
   "mimetype": "text/x-python",
   "name": "python",
   "nbconvert_exporter": "python",
   "pygments_lexer": "ipython3",
   "version": "3.9.7"
  }
 },
 "nbformat": 4,
 "nbformat_minor": 5
}
