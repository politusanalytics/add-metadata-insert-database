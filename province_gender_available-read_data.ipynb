{
 "cells": [
  {
   "cell_type": "markdown",
   "id": "056995fc",
   "metadata": {},
   "source": [
    "# Province Gender Available - Read Data"
   ]
  },
  {
   "cell_type": "code",
   "execution_count": null,
   "id": "0a921ad5",
   "metadata": {},
   "outputs": [],
   "source": [
    "import gzip\n",
    "import json\n",
    "import pandas as pd"
   ]
  },
  {
   "cell_type": "markdown",
   "id": "b618b4bd",
   "metadata": {},
   "source": [
    "## Read Data from Gzip"
   ]
  },
  {
   "cell_type": "code",
   "execution_count": null,
   "id": "1a071463",
   "metadata": {},
   "outputs": [],
   "source": [
    "with gzip.open(\"province_gender_available_metadata_added-220603_combined.txt.gz\", \"rb\") as f:\n",
    "    users = f.readlines()"
   ]
  },
  {
   "cell_type": "code",
   "execution_count": null,
   "id": "87d6e273",
   "metadata": {},
   "outputs": [],
   "source": [
    "for i in range(len(users)):\n",
    "    users[i] = json.loads(users[i].decode(\"utf-8\"))"
   ]
  },
  {
   "cell_type": "code",
   "execution_count": null,
   "id": "12b7042c",
   "metadata": {},
   "outputs": [],
   "source": [
    "len(users)"
   ]
  },
  {
   "cell_type": "markdown",
   "id": "51c73e46",
   "metadata": {},
   "source": [
    "## Create DataFrame"
   ]
  },
  {
   "cell_type": "code",
   "execution_count": null,
   "id": "f98a4055",
   "metadata": {
    "scrolled": true
   },
   "outputs": [],
   "source": [
    "df = pd.DataFrame(users)"
   ]
  },
  {
   "cell_type": "code",
   "execution_count": null,
   "id": "7addcfbf",
   "metadata": {},
   "outputs": [],
   "source": [
    "df.shape"
   ]
  },
  {
   "cell_type": "code",
   "execution_count": null,
   "id": "dcf858cd",
   "metadata": {},
   "outputs": [],
   "source": [
    "df.head(3)"
   ]
  },
  {
   "cell_type": "markdown",
   "id": "43e1a92b",
   "metadata": {},
   "source": [
    "- Tweet'i olmayan userları veriden silmek için:"
   ]
  },
  {
   "cell_type": "code",
   "execution_count": null,
   "id": "5fa1d9c9",
   "metadata": {},
   "outputs": [],
   "source": [
    "## Remove users without tweets in df\n",
    "#no_tweet_indices = []\n",
    "#for i in range(len(df)):\n",
    "#    if len(df.loc[i, \"tweets\"]) == 0:\n",
    "#        no_tweet_indices.append(i)\n",
    "#        \n",
    "#df = df.drop(no_tweet_indices).reset_index(drop=True)"
   ]
  },
  {
   "cell_type": "code",
   "execution_count": null,
   "id": "d1578e50",
   "metadata": {},
   "outputs": [],
   "source": [
    "## Remove users without tweets in users\n",
    "#users_with_tweets = []\n",
    "#for user in users:\n",
    "#    if user[\"tweets\"]:\n",
    "#        users_with_tweets.append(user)\n",
    "#\n",
    "#users = users_with_tweets"
   ]
  },
  {
   "cell_type": "markdown",
   "id": "bc398cde",
   "metadata": {},
   "source": [
    "- Tweet'lerin sonundaki URL'leri silmek için:"
   ]
  },
  {
   "cell_type": "code",
   "execution_count": null,
   "id": "75c65211",
   "metadata": {},
   "outputs": [],
   "source": [
    "#import re\n",
    "\n",
    "#for i in range(len(tweets)):\n",
    "#    if \"http\" in tweets[i]:\n",
    "#        tweets[i] = tweets[i][:re.search(\"http\", tweets[i]).start()]"
   ]
  },
  {
   "cell_type": "markdown",
   "id": "124aa1c9",
   "metadata": {},
   "source": [
    "- Belirli tarih aralığındaki ve belirli tipteki (\"original\", \"reply\", \"retweet\", \"quote\", \"fav\") tweet'leri filtrelemek için:"
   ]
  },
  {
   "cell_type": "code",
   "execution_count": null,
   "id": "3a46e260",
   "metadata": {},
   "outputs": [],
   "source": [
    "#def date_formatter(date):\n",
    "#    date = str(date).split()[0]\n",
    "#    return date.split(\"-\")[0][2:] + date.split(\"-\")[1] + date.split(\"-\")[2]"
   ]
  },
  {
   "cell_type": "code",
   "execution_count": null,
   "id": "7924e61c",
   "metadata": {},
   "outputs": [],
   "source": [
    "#def filter_tweets_by_date_and_type(start_date, end_date, types):\n",
    "#    \"\"\"\n",
    "#    Tweet Types: ['original', 'reply', 'retweet', 'quote', 'fav']\n",
    "#    \"\"\"\n",
    "#    \n",
    "#    start_date = pd.to_datetime(start_date)\n",
    "#    end_date = pd.to_datetime(end_date)\n",
    "#    \n",
    "#    date_range = pd.date_range(start=start_date, end=end_date)\n",
    "#    \n",
    "#    dates = [date_formatter(date) for date in date_range]\n",
    "#    \n",
    "#    return dates, types"
   ]
  },
  {
   "cell_type": "markdown",
   "id": "bd056ef2",
   "metadata": {},
   "source": [
    "- Örneğin, 14-28 Aralık 2021 tarihlerindeki original ve favori tweetler:"
   ]
  },
  {
   "cell_type": "code",
   "execution_count": null,
   "id": "a9fd60b7",
   "metadata": {},
   "outputs": [],
   "source": [
    "#tweet_dates_to_filter, tweet_types_to_filter = filter_tweets_by_date_and_type(start_date=\"14/12/2021\", end_date=\"28/12/2021\", types=[\"original\", \"fav\"])"
   ]
  },
  {
   "cell_type": "code",
   "execution_count": null,
   "id": "c6eb58e5",
   "metadata": {},
   "outputs": [],
   "source": [
    "#tweet_dates_to_filter"
   ]
  },
  {
   "cell_type": "code",
   "execution_count": null,
   "id": "ec3ce9e4",
   "metadata": {},
   "outputs": [],
   "source": [
    "#tweet_types_to_filter"
   ]
  },
  {
   "cell_type": "code",
   "execution_count": null,
   "id": "a604b4c6",
   "metadata": {},
   "outputs": [],
   "source": [
    "## Filter \"tweets\" for original and favorite tweets and tweets between December 14 - 28 in df\n",
    "#for i in range(len(df)):\n",
    "#    df.loc[i, \"tweets\"] = [tweet for tweet in df.loc[i, \"tweets\"] if tweet[\"type\"] in tweet_types_to_filter and tweet[\"twt_date\"] in tweet_dates_to_filter]\n",
    "#\n",
    "## Remove users without tweets in df\n",
    "#non_empty_indices = []\n",
    "#\n",
    "#for i in range(len(df)):\n",
    "#    if len(df.loc[i, \"tweets\"]) > 0:\n",
    "#        non_empty_indices.append(i)\n",
    "#\n",
    "#df = df.loc[non_empty_indices].reset_index(drop=True)"
   ]
  },
  {
   "cell_type": "code",
   "execution_count": null,
   "id": "e86c0676",
   "metadata": {},
   "outputs": [],
   "source": [
    "## Filter \"tweets\" for original and favorite tweets and tweets between December 14 - 28 in users\n",
    "#for i in range(len(users)):\n",
    "#    users[i][\"tweets\"] = [tweet for tweet in users[i][\"tweets\"] if tweet[\"type\"] in tweet_types_to_filter and tweet[\"twt_date\"] in tweet_dates_to_filter]\n",
    "\n",
    "## Remove users without tweets in users\n",
    "#users_with_tweets = []\n",
    "#for user in users:\n",
    "#    if user[\"tweets\"]:\n",
    "#        users_with_tweets.append(user)\n",
    "#        \n",
    "#users = users_with_tweets"
   ]
  }
 ],
 "metadata": {
  "kernelspec": {
   "display_name": "Python 3 (ipykernel)",
   "language": "python",
   "name": "python3"
  },
  "language_info": {
   "codemirror_mode": {
    "name": "ipython",
    "version": 3
   },
   "file_extension": ".py",
   "mimetype": "text/x-python",
   "name": "python",
   "nbconvert_exporter": "python",
   "pygments_lexer": "ipython3",
   "version": "3.9.7"
  }
 },
 "nbformat": 4,
 "nbformat_minor": 5
}
